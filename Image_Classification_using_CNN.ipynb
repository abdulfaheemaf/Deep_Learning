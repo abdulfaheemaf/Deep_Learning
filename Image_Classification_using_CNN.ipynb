{
  "nbformat": 4,
  "nbformat_minor": 0,
  "metadata": {
    "colab": {
      "provenance": [],
      "gpuType": "T4"
    },
    "kernelspec": {
      "name": "python3",
      "display_name": "Python 3"
    },
    "language_info": {
      "name": "python"
    },
    "accelerator": "GPU"
  },
  "cells": [
    {
      "cell_type": "markdown",
      "source": [
        "# **Image Classification using CNN**"
      ],
      "metadata": {
        "id": "-8ASTKL3OeAJ"
      }
    },
    {
      "cell_type": "code",
      "execution_count": null,
      "metadata": {
        "id": "ov-qc1Y3BFiP"
      },
      "outputs": [],
      "source": [
        "import tensorflow as tf\n",
        "from tensorflow.keras import datasets, layers, models\n",
        "import matplotlib.pyplot as plt\n",
        "import numpy as np"
      ]
    },
    {
      "cell_type": "code",
      "source": [
        "(X_train, y_train), (X_test, y_test) = datasets.cifar10.load_data()\n",
        "X_train.shape"
      ],
      "metadata": {
        "colab": {
          "base_uri": "https://localhost:8080/"
        },
        "id": "MZddwKurBbS4",
        "outputId": "084a2fde-1ae0-4044-cc76-d702603a3d5e"
      },
      "execution_count": null,
      "outputs": [
        {
          "output_type": "execute_result",
          "data": {
            "text/plain": [
              "(50000, 32, 32, 3)"
            ]
          },
          "metadata": {},
          "execution_count": 2
        },
        {
          "output_type": "execute_result",
          "data": {
            "text/plain": [
              "(50000, 32, 32, 3)"
            ]
          },
          "metadata": {},
          "execution_count": 34
        }
      ]
    },
    {
      "cell_type": "code",
      "source": [
        "X_test.shape"
      ],
      "metadata": {
        "colab": {
          "base_uri": "https://localhost:8080/"
        },
        "id": "fFZoEmH6Byv-",
        "outputId": "003dd0bd-96d2-42b2-f483-afc8cb05ddeb"
      },
      "execution_count": null,
      "outputs": [
        {
          "output_type": "execute_result",
          "data": {
            "text/plain": [
              "(10000, 32, 32, 3)"
            ]
          },
          "metadata": {},
          "execution_count": 3
        },
        {
          "output_type": "execute_result",
          "data": {
            "text/plain": [
              "(10000, 32, 32, 3)"
            ]
          },
          "metadata": {},
          "execution_count": 35
        }
      ]
    },
    {
      "cell_type": "code",
      "source": [
        "X_train[0]"
      ],
      "metadata": {
        "colab": {
          "base_uri": "https://localhost:8080/"
        },
        "id": "LX-_Zu8MB-Od",
        "outputId": "27f8c6b6-05df-4e5a-d7cf-349fb7115339"
      },
      "execution_count": null,
      "outputs": [
        {
          "output_type": "execute_result",
          "data": {
            "text/plain": [
              "array([[[ 59,  62,  63],\n",
              "        [ 43,  46,  45],\n",
              "        [ 50,  48,  43],\n",
              "        ...,\n",
              "        [158, 132, 108],\n",
              "        [152, 125, 102],\n",
              "        [148, 124, 103]],\n",
              "\n",
              "       [[ 16,  20,  20],\n",
              "        [  0,   0,   0],\n",
              "        [ 18,   8,   0],\n",
              "        ...,\n",
              "        [123,  88,  55],\n",
              "        [119,  83,  50],\n",
              "        [122,  87,  57]],\n",
              "\n",
              "       [[ 25,  24,  21],\n",
              "        [ 16,   7,   0],\n",
              "        [ 49,  27,   8],\n",
              "        ...,\n",
              "        [118,  84,  50],\n",
              "        [120,  84,  50],\n",
              "        [109,  73,  42]],\n",
              "\n",
              "       ...,\n",
              "\n",
              "       [[208, 170,  96],\n",
              "        [201, 153,  34],\n",
              "        [198, 161,  26],\n",
              "        ...,\n",
              "        [160, 133,  70],\n",
              "        [ 56,  31,   7],\n",
              "        [ 53,  34,  20]],\n",
              "\n",
              "       [[180, 139,  96],\n",
              "        [173, 123,  42],\n",
              "        [186, 144,  30],\n",
              "        ...,\n",
              "        [184, 148,  94],\n",
              "        [ 97,  62,  34],\n",
              "        [ 83,  53,  34]],\n",
              "\n",
              "       [[177, 144, 116],\n",
              "        [168, 129,  94],\n",
              "        [179, 142,  87],\n",
              "        ...,\n",
              "        [216, 184, 140],\n",
              "        [151, 118,  84],\n",
              "        [123,  92,  72]]], dtype=uint8)"
            ]
          },
          "metadata": {},
          "execution_count": 4
        },
        {
          "output_type": "execute_result",
          "data": {
            "text/plain": [
              "array([[[ 59,  62,  63],\n",
              "        [ 43,  46,  45],\n",
              "        [ 50,  48,  43],\n",
              "        ...,\n",
              "        [158, 132, 108],\n",
              "        [152, 125, 102],\n",
              "        [148, 124, 103]],\n",
              "\n",
              "       [[ 16,  20,  20],\n",
              "        [  0,   0,   0],\n",
              "        [ 18,   8,   0],\n",
              "        ...,\n",
              "        [123,  88,  55],\n",
              "        [119,  83,  50],\n",
              "        [122,  87,  57]],\n",
              "\n",
              "       [[ 25,  24,  21],\n",
              "        [ 16,   7,   0],\n",
              "        [ 49,  27,   8],\n",
              "        ...,\n",
              "        [118,  84,  50],\n",
              "        [120,  84,  50],\n",
              "        [109,  73,  42]],\n",
              "\n",
              "       ...,\n",
              "\n",
              "       [[208, 170,  96],\n",
              "        [201, 153,  34],\n",
              "        [198, 161,  26],\n",
              "        ...,\n",
              "        [160, 133,  70],\n",
              "        [ 56,  31,   7],\n",
              "        [ 53,  34,  20]],\n",
              "\n",
              "       [[180, 139,  96],\n",
              "        [173, 123,  42],\n",
              "        [186, 144,  30],\n",
              "        ...,\n",
              "        [184, 148,  94],\n",
              "        [ 97,  62,  34],\n",
              "        [ 83,  53,  34]],\n",
              "\n",
              "       [[177, 144, 116],\n",
              "        [168, 129,  94],\n",
              "        [179, 142,  87],\n",
              "        ...,\n",
              "        [216, 184, 140],\n",
              "        [151, 118,  84],\n",
              "        [123,  92,  72]]], dtype=uint8)"
            ]
          },
          "metadata": {},
          "execution_count": 36
        }
      ]
    },
    {
      "cell_type": "code",
      "source": [
        "plt.imshow(X_train[0])"
      ],
      "metadata": {
        "colab": {
          "base_uri": "https://localhost:8080/",
          "height": 878
        },
        "id": "svUMVtXyCNKu",
        "outputId": "363afcf1-9871-428b-a1cb-6d28454b912c"
      },
      "execution_count": null,
      "outputs": [
        {
          "output_type": "execute_result",
          "data": {
            "text/plain": [
              "<matplotlib.image.AxesImage at 0x7a43bc7118a0>"
            ]
          },
          "metadata": {},
          "execution_count": 5
        },
        {
          "output_type": "display_data",
          "data": {
            "text/plain": [
              "<Figure size 640x480 with 1 Axes>"
            ],
            "image/png": "[encoded data removed]"
          },
          "metadata": {}
        },
        {
          "output_type": "execute_result",
          "data": {
            "text/plain": [
              "<matplotlib.image.AxesImage at 0x7a43bc7fab60>"
            ]
          },
          "metadata": {},
          "execution_count": 37
        },
        {
          "output_type": "display_data",
          "data": {
            "text/plain": [
              "<Figure size 640x480 with 1 Axes>"
            ],
            "image/png": "[encoded data removed]"
          },
          "metadata": {}
        }
      ]
    },
    {
      "cell_type": "code",
      "source": [
        "plt.imshow(X_train[1])"
      ],
      "metadata": {
        "colab": {
          "base_uri": "https://localhost:8080/",
          "height": 878
        },
        "id": "CVoNZXUnCWKd",
        "outputId": "f8c5c0e8-d24d-4b49-a190-3f4e7f3886fe"
      },
      "execution_count": null,
      "outputs": [
        {
          "output_type": "execute_result",
          "data": {
            "text/plain": [
              "<matplotlib.image.AxesImage at 0x7a43b13b2da0>"
            ]
          },
          "metadata": {},
          "execution_count": 6
        },
        {
          "output_type": "display_data",
          "data": {
            "text/plain": [
              "<Figure size 640x480 with 1 Axes>"
            ],
            "image/png": "[encoded data removed]"
          },
          "metadata": {}
        },
        {
          "output_type": "execute_result",
          "data": {
            "text/plain": [
              "<matplotlib.image.AxesImage at 0x7a42d7728400>"
            ]
          },
          "metadata": {},
          "execution_count": 38
        },
        {
          "output_type": "display_data",
          "data": {
            "text/plain": [
              "<Figure size 640x480 with 1 Axes>"
            ],
            "image/png": "[encoded data removed]"
          },
          "metadata": {}
        }
      ]
    },
    {
      "cell_type": "code",
      "source": [
        "#Actually y_train is in the form of 2d - array we have to resize it\n",
        "y_train[: 5]"
      ],
      "metadata": {
        "colab": {
          "base_uri": "https://localhost:8080/"
        },
        "id": "vrlZmNQdDnn2",
        "outputId": "b4e1813b-b3cb-4594-b747-78a37e69b70d"
      },
      "execution_count": null,
      "outputs": [
        {
          "output_type": "execute_result",
          "data": {
            "text/plain": [
              "array([[6],\n",
              "       [9],\n",
              "       [9],\n",
              "       [4],\n",
              "       [1]], dtype=uint8)"
            ]
          },
          "metadata": {},
          "execution_count": 7
        },
        {
          "output_type": "execute_result",
          "data": {
            "text/plain": [
              "array([[6],\n",
              "       [9],\n",
              "       [9],\n",
              "       [4],\n",
              "       [1]], dtype=uint8)"
            ]
          },
          "metadata": {},
          "execution_count": 39
        }
      ]
    },
    {
      "cell_type": "code",
      "source": [
        "y_train = y_train.reshape(-1, )\n",
        "y_train[: 5]"
      ],
      "metadata": {
        "colab": {
          "base_uri": "https://localhost:8080/"
        },
        "id": "u6gGGfb9EWU9",
        "outputId": "25b482d8-9d82-4b62-c8c5-25a48275047e"
      },
      "execution_count": null,
      "outputs": [
        {
          "output_type": "execute_result",
          "data": {
            "text/plain": [
              "array([6, 9, 9, 4, 1], dtype=uint8)"
            ]
          },
          "metadata": {},
          "execution_count": 8
        },
        {
          "output_type": "execute_result",
          "data": {
            "text/plain": [
              "array([6, 9, 9, 4, 1], dtype=uint8)"
            ]
          },
          "metadata": {},
          "execution_count": 40
        }
      ]
    },
    {
      "cell_type": "code",
      "source": [
        "classes = [\"airplane\", \"automobile\", \"bird\", \"cat\", \"deer\", \"dog\", \"frog\", \"horse\", \"ship\", \"truck\"]"
      ],
      "metadata": {
        "id": "dhgfW8SkCl_e"
      },
      "execution_count": null,
      "outputs": []
    },
    {
      "cell_type": "code",
      "source": [
        "def plot_sample(X, y, index):\n",
        "  plt.figure(figsize = (15, 2))\n",
        "  plt.imshow(X[index])\n",
        "  plt.xlabel(classes[y[index]])"
      ],
      "metadata": {
        "id": "1705zERRDPpt"
      },
      "execution_count": null,
      "outputs": []
    },
    {
      "cell_type": "code",
      "source": [
        "plot_sample(X_train, y_train, 3)"
      ],
      "metadata": {
        "colab": {
          "base_uri": "https://localhost:8080/",
          "height": 457
        },
        "id": "8d5jFYxTFT6m",
        "outputId": "61320e07-a870-4591-d0cc-5adb15cf6742"
      },
      "execution_count": null,
      "outputs": [
        {
          "output_type": "display_data",
          "data": {
            "text/plain": [
              "<Figure size 1500x200 with 1 Axes>"
            ],
            "image/png": "[encoded data removed]"
          },
          "metadata": {}
        },
        {
          "output_type": "display_data",
          "data": {
            "text/plain": [
              "<Figure size 1500x200 with 1 Axes>"
            ],
            "image/png": "[encoded data removed]"
          },
          "metadata": {}
        }
      ]
    },
    {
      "cell_type": "code",
      "source": [
        "plot_sample(X_train, y_train, 2)"
      ],
      "metadata": {
        "colab": {
          "base_uri": "https://localhost:8080/",
          "height": 457
        },
        "id": "by8iG99eFXEs",
        "outputId": "1c696a1c-2f27-43a5-9b47-b02bf7f76e4c"
      },
      "execution_count": null,
      "outputs": [
        {
          "output_type": "display_data",
          "data": {
            "text/plain": [
              "<Figure size 1500x200 with 1 Axes>"
            ],
            "image/png": "[encoded data removed]"
          },
          "metadata": {}
        },
        {
          "output_type": "display_data",
          "data": {
            "text/plain": [
              "<Figure size 1500x200 with 1 Axes>"
            ],
            "image/png": "[encoded data removed]"
          },
          "metadata": {}
        }
      ]
    },
    {
      "cell_type": "code",
      "source": [
        "X_train[0]"
      ],
      "metadata": {
        "colab": {
          "base_uri": "https://localhost:8080/"
        },
        "id": "ko9JPL6tFZlV",
        "outputId": "c6f21358-4378-45af-c4e0-d40c2843db68"
      },
      "execution_count": null,
      "outputs": [
        {
          "output_type": "execute_result",
          "data": {
            "text/plain": [
              "array([[[ 59,  62,  63],\n",
              "        [ 43,  46,  45],\n",
              "        [ 50,  48,  43],\n",
              "        ...,\n",
              "        [158, 132, 108],\n",
              "        [152, 125, 102],\n",
              "        [148, 124, 103]],\n",
              "\n",
              "       [[ 16,  20,  20],\n",
              "        [  0,   0,   0],\n",
              "        [ 18,   8,   0],\n",
              "        ...,\n",
              "        [123,  88,  55],\n",
              "        [119,  83,  50],\n",
              "        [122,  87,  57]],\n",
              "\n",
              "       [[ 25,  24,  21],\n",
              "        [ 16,   7,   0],\n",
              "        [ 49,  27,   8],\n",
              "        ...,\n",
              "        [118,  84,  50],\n",
              "        [120,  84,  50],\n",
              "        [109,  73,  42]],\n",
              "\n",
              "       ...,\n",
              "\n",
              "       [[208, 170,  96],\n",
              "        [201, 153,  34],\n",
              "        [198, 161,  26],\n",
              "        ...,\n",
              "        [160, 133,  70],\n",
              "        [ 56,  31,   7],\n",
              "        [ 53,  34,  20]],\n",
              "\n",
              "       [[180, 139,  96],\n",
              "        [173, 123,  42],\n",
              "        [186, 144,  30],\n",
              "        ...,\n",
              "        [184, 148,  94],\n",
              "        [ 97,  62,  34],\n",
              "        [ 83,  53,  34]],\n",
              "\n",
              "       [[177, 144, 116],\n",
              "        [168, 129,  94],\n",
              "        [179, 142,  87],\n",
              "        ...,\n",
              "        [216, 184, 140],\n",
              "        [151, 118,  84],\n",
              "        [123,  92,  72]]], dtype=uint8)"
            ]
          },
          "metadata": {},
          "execution_count": 13
        },
        {
          "output_type": "execute_result",
          "data": {
            "text/plain": [
              "array([[[ 59,  62,  63],\n",
              "        [ 43,  46,  45],\n",
              "        [ 50,  48,  43],\n",
              "        ...,\n",
              "        [158, 132, 108],\n",
              "        [152, 125, 102],\n",
              "        [148, 124, 103]],\n",
              "\n",
              "       [[ 16,  20,  20],\n",
              "        [  0,   0,   0],\n",
              "        [ 18,   8,   0],\n",
              "        ...,\n",
              "        [123,  88,  55],\n",
              "        [119,  83,  50],\n",
              "        [122,  87,  57]],\n",
              "\n",
              "       [[ 25,  24,  21],\n",
              "        [ 16,   7,   0],\n",
              "        [ 49,  27,   8],\n",
              "        ...,\n",
              "        [118,  84,  50],\n",
              "        [120,  84,  50],\n",
              "        [109,  73,  42]],\n",
              "\n",
              "       ...,\n",
              "\n",
              "       [[208, 170,  96],\n",
              "        [201, 153,  34],\n",
              "        [198, 161,  26],\n",
              "        ...,\n",
              "        [160, 133,  70],\n",
              "        [ 56,  31,   7],\n",
              "        [ 53,  34,  20]],\n",
              "\n",
              "       [[180, 139,  96],\n",
              "        [173, 123,  42],\n",
              "        [186, 144,  30],\n",
              "        ...,\n",
              "        [184, 148,  94],\n",
              "        [ 97,  62,  34],\n",
              "        [ 83,  53,  34]],\n",
              "\n",
              "       [[177, 144, 116],\n",
              "        [168, 129,  94],\n",
              "        [179, 142,  87],\n",
              "        ...,\n",
              "        [216, 184, 140],\n",
              "        [151, 118,  84],\n",
              "        [123,  92,  72]]], dtype=uint8)"
            ]
          },
          "metadata": {},
          "execution_count": 45
        }
      ]
    },
    {
      "cell_type": "code",
      "source": [
        "X_train = X_train / 255\n",
        "X_test = X_test / 255"
      ],
      "metadata": {
        "id": "jMKbZUQ4FqHE"
      },
      "execution_count": null,
      "outputs": []
    },
    {
      "cell_type": "markdown",
      "source": [
        "## **ANN**"
      ],
      "metadata": {
        "id": "UxVMrFxjtkpe"
      }
    },
    {
      "cell_type": "code",
      "source": [
        "ann = models.Sequential([\n",
        "    layers.Flatten(input_shape = (32, 32, 3)),\n",
        "    layers.Dense(3000, activation = 'relu'),\n",
        "    layers.Dense(3000, activation = 'relu'),\n",
        "    layers.Dense(3000, activation = 'sigmoid')\n",
        "])\n",
        "\n",
        "ann.compile(optimizer = 'SGD',\n",
        "            loss = 'sparse_categorical_crossentropy',\n",
        "            metrics = ['accuracy'])\n",
        "\n",
        "ann.fit(X_train, y_train, epochs = 50)"
      ],
      "metadata": {
        "colab": {
          "base_uri": "https://localhost:8080/"
        },
        "id": "qamxNSghFydU",
        "outputId": "1f3c2649-72ac-4d55-84e1-9325699d9282"
      },
      "execution_count": null,
      "outputs": [
        {
          "output_type": "stream",
          "name": "stdout",
          "text": [
            "Epoch 1/50\n",
            "1563/1563 [==============================] - 20s 11ms/step - loss: 1.9635 - accuracy: 0.3115\n",
            "Epoch 2/50\n",
            "1563/1563 [==============================] - 13s 8ms/step - loss: 1.6866 - accuracy: 0.4030\n",
            "Epoch 3/50\n",
            "1563/1563 [==============================] - 12s 8ms/step - loss: 1.5915 - accuracy: 0.4378\n",
            "Epoch 4/50\n",
            "1563/1563 [==============================] - 12s 8ms/step - loss: 1.5248 - accuracy: 0.4622\n",
            "Epoch 5/50\n",
            "1563/1563 [==============================] - 16s 10ms/step - loss: 1.4767 - accuracy: 0.4790\n",
            "Epoch 6/50\n",
            "1563/1563 [==============================] - 12s 8ms/step - loss: 1.4317 - accuracy: 0.4941\n",
            "Epoch 7/50\n",
            "1563/1563 [==============================] - 12s 8ms/step - loss: 1.3936 - accuracy: 0.5090\n",
            "Epoch 8/50\n",
            "1563/1563 [==============================] - 13s 8ms/step - loss: 1.3557 - accuracy: 0.5260\n",
            "Epoch 9/50\n",
            "1563/1563 [==============================] - 12s 8ms/step - loss: 1.3232 - accuracy: 0.5323\n",
            "Epoch 10/50\n",
            "1563/1563 [==============================] - 12s 8ms/step - loss: 1.2936 - accuracy: 0.5445\n",
            "Epoch 11/50\n",
            "1563/1563 [==============================] - 13s 8ms/step - loss: 1.2617 - accuracy: 0.5556\n",
            "Epoch 12/50\n",
            "1563/1563 [==============================] - 12s 8ms/step - loss: 1.2355 - accuracy: 0.5653\n",
            "Epoch 13/50\n",
            "1563/1563 [==============================] - 12s 8ms/step - loss: 1.2082 - accuracy: 0.5751\n",
            "Epoch 14/50\n",
            "1563/1563 [==============================] - 12s 8ms/step - loss: 1.1801 - accuracy: 0.5861\n",
            "Epoch 15/50\n",
            "1563/1563 [==============================] - 12s 8ms/step - loss: 1.1518 - accuracy: 0.5962\n",
            "Epoch 16/50\n",
            "1563/1563 [==============================] - 12s 8ms/step - loss: 1.1272 - accuracy: 0.6035\n",
            "Epoch 17/50\n",
            "1563/1563 [==============================] - 13s 8ms/step - loss: 1.1022 - accuracy: 0.6126\n",
            "Epoch 18/50\n",
            "1563/1563 [==============================] - 12s 8ms/step - loss: 1.0775 - accuracy: 0.6241\n",
            "Epoch 19/50\n",
            "1563/1563 [==============================] - 12s 8ms/step - loss: 1.0493 - accuracy: 0.6318\n",
            "Epoch 20/50\n",
            "1563/1563 [==============================] - 12s 8ms/step - loss: 1.0281 - accuracy: 0.6406\n",
            "Epoch 21/50\n",
            "1563/1563 [==============================] - 12s 8ms/step - loss: 1.0006 - accuracy: 0.6505\n",
            "Epoch 22/50\n",
            "1563/1563 [==============================] - 12s 8ms/step - loss: 0.9743 - accuracy: 0.6609\n",
            "Epoch 23/50\n",
            "1563/1563 [==============================] - 12s 8ms/step - loss: 0.9507 - accuracy: 0.6704\n",
            "Epoch 24/50\n",
            "1563/1563 [==============================] - 12s 8ms/step - loss: 0.9272 - accuracy: 0.6762\n",
            "Epoch 25/50\n",
            "1563/1563 [==============================] - 12s 8ms/step - loss: 0.8983 - accuracy: 0.6877\n",
            "Epoch 26/50\n",
            "1563/1563 [==============================] - 12s 8ms/step - loss: 0.8774 - accuracy: 0.6959\n",
            "Epoch 27/50\n",
            "1563/1563 [==============================] - 12s 8ms/step - loss: 0.8483 - accuracy: 0.7062\n",
            "Epoch 28/50\n",
            "1563/1563 [==============================] - 12s 8ms/step - loss: 0.8253 - accuracy: 0.7138\n",
            "Epoch 29/50\n",
            "1563/1563 [==============================] - 12s 8ms/step - loss: 0.7975 - accuracy: 0.7243\n",
            "Epoch 30/50\n",
            "1563/1563 [==============================] - 12s 8ms/step - loss: 0.7755 - accuracy: 0.7321\n",
            "Epoch 31/50\n",
            "1563/1563 [==============================] - 12s 8ms/step - loss: 0.7491 - accuracy: 0.7414\n",
            "Epoch 32/50\n",
            "1563/1563 [==============================] - 12s 8ms/step - loss: 0.7256 - accuracy: 0.7494\n",
            "Epoch 33/50\n",
            "1563/1563 [==============================] - 12s 8ms/step - loss: 0.6975 - accuracy: 0.7621\n",
            "Epoch 34/50\n",
            "1563/1563 [==============================] - 12s 8ms/step - loss: 0.6766 - accuracy: 0.7677\n",
            "Epoch 35/50\n",
            "1563/1563 [==============================] - 12s 8ms/step - loss: 0.6480 - accuracy: 0.7790\n",
            "Epoch 36/50\n",
            "1563/1563 [==============================] - 12s 8ms/step - loss: 0.6241 - accuracy: 0.7896\n",
            "Epoch 37/50\n",
            "1563/1563 [==============================] - 12s 8ms/step - loss: 0.5988 - accuracy: 0.7975\n",
            "Epoch 38/50\n",
            "1563/1563 [==============================] - 12s 8ms/step - loss: 0.5763 - accuracy: 0.8071\n",
            "Epoch 39/50\n",
            "1563/1563 [==============================] - 12s 8ms/step - loss: 0.5528 - accuracy: 0.8138\n",
            "Epoch 40/50\n",
            "1563/1563 [==============================] - 12s 8ms/step - loss: 0.5313 - accuracy: 0.8240\n",
            "Epoch 41/50\n",
            "1563/1563 [==============================] - 12s 8ms/step - loss: 0.5054 - accuracy: 0.8321\n",
            "Epoch 42/50\n",
            "1563/1563 [==============================] - 12s 8ms/step - loss: 0.4852 - accuracy: 0.8406\n",
            "Epoch 43/50\n",
            "1563/1563 [==============================] - 17s 11ms/step - loss: 0.4609 - accuracy: 0.8483\n",
            "Epoch 44/50\n",
            "1563/1563 [==============================] - 14s 9ms/step - loss: 0.4361 - accuracy: 0.8592\n",
            "Epoch 45/50\n",
            "1563/1563 [==============================] - 12s 8ms/step - loss: 0.4197 - accuracy: 0.8643\n",
            "Epoch 46/50\n",
            "1563/1563 [==============================] - 12s 8ms/step - loss: 0.3988 - accuracy: 0.8719\n",
            "Epoch 47/50\n",
            "1563/1563 [==============================] - 12s 8ms/step - loss: 0.3777 - accuracy: 0.8801\n",
            "Epoch 48/50\n",
            "1563/1563 [==============================] - 12s 8ms/step - loss: 0.3603 - accuracy: 0.8866\n",
            "Epoch 49/50\n",
            "1563/1563 [==============================] - 12s 8ms/step - loss: 0.3391 - accuracy: 0.8938\n",
            "Epoch 50/50\n",
            "1563/1563 [==============================] - 12s 8ms/step - loss: 0.3213 - accuracy: 0.9018\n"
          ]
        },
        {
          "output_type": "execute_result",
          "data": {
            "text/plain": [
              "<keras.src.callbacks.History at 0x7a43b12cb520>"
            ]
          },
          "metadata": {},
          "execution_count": 15
        },
        {
          "output_type": "stream",
          "name": "stdout",
          "text": [
            "Epoch 1/50\n",
            "1563/1563 [==============================] - 13s 8ms/step - loss: 1.9583 - accuracy: 0.3163\n",
            "Epoch 2/50\n",
            "1563/1563 [==============================] - 12s 8ms/step - loss: 1.6885 - accuracy: 0.4041\n",
            "Epoch 3/50\n",
            "1563/1563 [==============================] - 12s 8ms/step - loss: 1.5937 - accuracy: 0.4374\n",
            "Epoch 4/50\n",
            "1563/1563 [==============================] - 12s 8ms/step - loss: 1.5305 - accuracy: 0.4598\n",
            "Epoch 5/50\n",
            "1563/1563 [==============================] - 12s 8ms/step - loss: 1.4762 - accuracy: 0.4787\n",
            "Epoch 6/50\n",
            "1563/1563 [==============================] - 12s 8ms/step - loss: 1.4333 - accuracy: 0.4953\n",
            "Epoch 7/50\n",
            "1563/1563 [==============================] - 12s 8ms/step - loss: 1.3939 - accuracy: 0.5085\n",
            "Epoch 8/50\n",
            "1563/1563 [==============================] - 12s 8ms/step - loss: 1.3560 - accuracy: 0.5216\n",
            "Epoch 9/50\n",
            "1563/1563 [==============================] - 12s 8ms/step - loss: 1.3246 - accuracy: 0.5359\n",
            "Epoch 10/50\n",
            "1563/1563 [==============================] - 12s 8ms/step - loss: 1.2918 - accuracy: 0.5461\n",
            "Epoch 11/50\n",
            "1563/1563 [==============================] - 12s 8ms/step - loss: 1.2647 - accuracy: 0.5577\n",
            "Epoch 12/50\n",
            "1563/1563 [==============================] - 12s 8ms/step - loss: 1.2321 - accuracy: 0.5682\n",
            "Epoch 13/50\n",
            "1563/1563 [==============================] - 12s 8ms/step - loss: 1.2082 - accuracy: 0.5765\n",
            "Epoch 14/50\n",
            "1563/1563 [==============================] - 12s 8ms/step - loss: 1.1812 - accuracy: 0.5810\n",
            "Epoch 15/50\n",
            "1563/1563 [==============================] - 12s 8ms/step - loss: 1.1510 - accuracy: 0.5958\n",
            "Epoch 16/50\n",
            "1563/1563 [==============================] - 12s 8ms/step - loss: 1.1284 - accuracy: 0.6041\n",
            "Epoch 17/50\n",
            "1563/1563 [==============================] - 12s 8ms/step - loss: 1.1009 - accuracy: 0.6121\n",
            "Epoch 18/50\n",
            "1563/1563 [==============================] - 12s 8ms/step - loss: 1.0779 - accuracy: 0.6250\n",
            "Epoch 19/50\n",
            "1563/1563 [==============================] - 12s 8ms/step - loss: 1.0535 - accuracy: 0.6322\n",
            "Epoch 20/50\n",
            "1563/1563 [==============================] - 12s 8ms/step - loss: 1.0274 - accuracy: 0.6406\n",
            "Epoch 21/50\n",
            "1563/1563 [==============================] - 12s 8ms/step - loss: 1.0023 - accuracy: 0.6485\n",
            "Epoch 22/50\n",
            "1563/1563 [==============================] - 12s 8ms/step - loss: 0.9765 - accuracy: 0.6597\n",
            "Epoch 23/50\n",
            "1563/1563 [==============================] - 12s 8ms/step - loss: 0.9548 - accuracy: 0.6667\n",
            "Epoch 24/50\n",
            "1563/1563 [==============================] - 12s 8ms/step - loss: 0.9271 - accuracy: 0.6786\n",
            "Epoch 25/50\n",
            "1563/1563 [==============================] - 12s 8ms/step - loss: 0.9000 - accuracy: 0.6880\n",
            "Epoch 26/50\n",
            "1563/1563 [==============================] - 12s 8ms/step - loss: 0.8780 - accuracy: 0.6939\n",
            "Epoch 27/50\n",
            "1563/1563 [==============================] - 12s 8ms/step - loss: 0.8518 - accuracy: 0.7059\n",
            "Epoch 28/50\n",
            "1563/1563 [==============================] - 12s 8ms/step - loss: 0.8280 - accuracy: 0.7138\n",
            "Epoch 29/50\n",
            "1563/1563 [==============================] - 12s 8ms/step - loss: 0.8013 - accuracy: 0.7210\n",
            "Epoch 30/50\n",
            "1563/1563 [==============================] - 12s 8ms/step - loss: 0.7796 - accuracy: 0.7298\n",
            "Epoch 31/50\n",
            "1563/1563 [==============================] - 12s 8ms/step - loss: 0.7517 - accuracy: 0.7404\n",
            "Epoch 32/50\n",
            "1563/1563 [==============================] - 12s 8ms/step - loss: 0.7258 - accuracy: 0.7495\n",
            "Epoch 33/50\n",
            "1563/1563 [==============================] - 12s 8ms/step - loss: 0.7022 - accuracy: 0.7582\n",
            "Epoch 34/50\n",
            "1563/1563 [==============================] - 12s 8ms/step - loss: 0.6787 - accuracy: 0.7685\n",
            "Epoch 35/50\n",
            "1563/1563 [==============================] - 12s 8ms/step - loss: 0.6572 - accuracy: 0.7745\n",
            "Epoch 36/50\n",
            "1563/1563 [==============================] - 12s 8ms/step - loss: 0.6323 - accuracy: 0.7838\n",
            "Epoch 37/50\n",
            "1563/1563 [==============================] - 12s 8ms/step - loss: 0.6073 - accuracy: 0.7935\n",
            "Epoch 38/50\n",
            "1563/1563 [==============================] - 12s 8ms/step - loss: 0.5796 - accuracy: 0.8069\n",
            "Epoch 39/50\n",
            "1563/1563 [==============================] - 12s 8ms/step - loss: 0.5561 - accuracy: 0.8132\n",
            "Epoch 40/50\n",
            "1563/1563 [==============================] - 12s 8ms/step - loss: 0.5335 - accuracy: 0.8219\n",
            "Epoch 41/50\n",
            "1563/1563 [==============================] - 12s 8ms/step - loss: 0.5105 - accuracy: 0.8315\n",
            "Epoch 42/50\n",
            "1563/1563 [==============================] - 12s 8ms/step - loss: 0.4891 - accuracy: 0.8372\n",
            "Epoch 43/50\n",
            "1563/1563 [==============================] - 12s 8ms/step - loss: 0.4641 - accuracy: 0.8487\n",
            "Epoch 44/50\n",
            "1563/1563 [==============================] - 13s 8ms/step - loss: 0.4438 - accuracy: 0.8552\n",
            "Epoch 45/50\n",
            "1563/1563 [==============================] - 13s 8ms/step - loss: 0.4202 - accuracy: 0.8658\n",
            "Epoch 46/50\n",
            "1563/1563 [==============================] - 12s 8ms/step - loss: 0.4032 - accuracy: 0.8702\n",
            "Epoch 47/50\n",
            "1563/1563 [==============================] - 12s 8ms/step - loss: 0.3826 - accuracy: 0.8779\n",
            "Epoch 48/50\n",
            "1563/1563 [==============================] - 13s 8ms/step - loss: 0.3638 - accuracy: 0.8857\n",
            "Epoch 49/50\n",
            "1563/1563 [==============================] - 12s 8ms/step - loss: 0.3487 - accuracy: 0.8906\n",
            "Epoch 50/50\n",
            "1563/1563 [==============================] - 12s 8ms/step - loss: 0.3247 - accuracy: 0.8998\n"
          ]
        },
        {
          "output_type": "execute_result",
          "data": {
            "text/plain": [
              "<keras.src.callbacks.History at 0x7a42d74e3970>"
            ]
          },
          "metadata": {},
          "execution_count": 47
        }
      ]
    },
    {
      "cell_type": "code",
      "source": [
        "from sklearn.metrics import confusion_matrix, classification_report\n",
        "import numpy as np\n",
        "y_pred = ann.predict(X_test)\n",
        "y_pred_classes = [np.argmax(element) for element in y_pred]\n",
        "\n",
        "print(\"Classification Report - \\n\", classification_report(y_test, y_pred_classes))"
      ],
      "metadata": {
        "colab": {
          "base_uri": "https://localhost:8080/"
        },
        "id": "rspchjVvHKT9",
        "outputId": "be33487a-1e61-4580-c7de-b76a4dcb0ede"
      },
      "execution_count": null,
      "outputs": [
        {
          "output_type": "stream",
          "name": "stdout",
          "text": [
            "313/313 [==============================] - 1s 2ms/step\n",
            "Classification Report - \n",
            "               precision    recall  f1-score   support\n",
            "\n",
            "           0       0.23      0.82      0.36      1000\n",
            "           1       0.26      0.39      0.31      1000\n",
            "           2       0.28      0.41      0.33      1000\n",
            "           3       0.30      0.19      0.24      1000\n",
            "           4       0.41      0.26      0.32      1000\n",
            "           5       0.35      0.02      0.04      1000\n",
            "           6       0.35      0.38      0.37      1000\n",
            "           7       0.28      0.23      0.25      1000\n",
            "           8       0.73      0.16      0.26      1000\n",
            "           9       0.66      0.03      0.06      1000\n",
            "\n",
            "    accuracy                           0.29     10000\n",
            "   macro avg       0.39      0.29      0.25     10000\n",
            "weighted avg       0.39      0.29      0.25     10000\n",
            "\n",
            "313/313 [==============================] - 1s 2ms/step\n",
            "Classification Report - \n",
            "               precision    recall  f1-score   support\n",
            "\n",
            "           0       0.28      0.74      0.40      1000\n",
            "           1       0.34      0.48      0.40      1000\n",
            "           2       0.21      0.58      0.31      1000\n",
            "           3       0.24      0.29      0.26      1000\n",
            "           4       0.36      0.30      0.33      1000\n",
            "           5       0.24      0.02      0.03      1000\n",
            "           6       0.56      0.16      0.25      1000\n",
            "           7       0.47      0.11      0.17      1000\n",
            "           8       0.65      0.23      0.34      1000\n",
            "           9       0.54      0.06      0.10      1000\n",
            "\n",
            "    accuracy                           0.30     10000\n",
            "   macro avg       0.39      0.30      0.26     10000\n",
            "weighted avg       0.39      0.30      0.26     10000\n",
            "\n"
          ]
        }
      ]
    },
    {
      "cell_type": "markdown",
      "source": [
        "# **CNN**"
      ],
      "metadata": {
        "id": "8vU5lIJQtnXo"
      }
    },
    {
      "cell_type": "code",
      "source": [
        "cnn = models.Sequential([\n",
        "    #CNN\n",
        "    layers.Conv2D(filters = 32, kernel_size = (3, 3), activation = 'relu', input_shape = (32, 32, 3)),\n",
        "    layers.MaxPooling2D((2, 2)),\n",
        "\n",
        "    layers.Conv2D(filters = 64, kernel_size = (3, 3), activation = 'relu'),\n",
        "    layers.MaxPooling2D((2, 2)),\n",
        "\n",
        "    #dense\n",
        "    layers.Flatten(),\n",
        "    layers.Dense(64, activation = 'relu'),\n",
        "    layers.Dense(10, activation = 'softmax')\n",
        "])"
      ],
      "metadata": {
        "id": "B1_uZr5hJC9c"
      },
      "execution_count": null,
      "outputs": []
    },
    {
      "cell_type": "code",
      "source": [
        "cnn.compile(optimizer = 'adam',\n",
        "              loss = 'sparse_categorical_crossentropy',\n",
        "              metrics = ['accuracy'])"
      ],
      "metadata": {
        "id": "PGdR3LKiJr48"
      },
      "execution_count": null,
      "outputs": []
    },
    {
      "cell_type": "code",
      "source": [
        "cnn.fit(X_train, y_train, epochs = 50)"
      ],
      "metadata": {
        "colab": {
          "base_uri": "https://localhost:8080/"
        },
        "id": "k5uC6_JpJ6Qq",
        "outputId": "8ee8421a-f934-4649-c567-8d5dd2507969"
      },
      "execution_count": null,
      "outputs": [
        {
          "output_type": "stream",
          "name": "stdout",
          "text": [
            "Epoch 1/50\n",
            "1563/1563 [==============================] - 9s 4ms/step - loss: 1.4813 - accuracy: 0.4660\n",
            "Epoch 2/50\n",
            "1563/1563 [==============================] - 6s 4ms/step - loss: 1.0959 - accuracy: 0.6144\n",
            "Epoch 3/50\n",
            "1563/1563 [==============================] - 6s 4ms/step - loss: 0.9718 - accuracy: 0.6619\n",
            "Epoch 4/50\n",
            "1563/1563 [==============================] - 6s 4ms/step - loss: 0.8927 - accuracy: 0.6901\n",
            "Epoch 5/50\n",
            "1563/1563 [==============================] - 6s 4ms/step - loss: 0.8319 - accuracy: 0.7126\n",
            "Epoch 6/50\n",
            "1563/1563 [==============================] - 6s 4ms/step - loss: 0.7799 - accuracy: 0.7295\n",
            "Epoch 7/50\n",
            "1563/1563 [==============================] - 6s 4ms/step - loss: 0.7347 - accuracy: 0.7434\n",
            "Epoch 8/50\n",
            "1563/1563 [==============================] - 6s 4ms/step - loss: 0.6845 - accuracy: 0.7603\n",
            "Epoch 9/50\n",
            "1563/1563 [==============================] - 6s 4ms/step - loss: 0.6473 - accuracy: 0.7717\n",
            "Epoch 10/50\n",
            "1563/1563 [==============================] - 6s 4ms/step - loss: 0.6122 - accuracy: 0.7852\n",
            "Epoch 11/50\n",
            "1563/1563 [==============================] - 6s 4ms/step - loss: 0.5749 - accuracy: 0.7977\n",
            "Epoch 12/50\n",
            "1563/1563 [==============================] - 6s 4ms/step - loss: 0.5434 - accuracy: 0.8080\n",
            "Epoch 13/50\n",
            "1563/1563 [==============================] - 6s 4ms/step - loss: 0.5103 - accuracy: 0.8187\n",
            "Epoch 14/50\n",
            "1563/1563 [==============================] - 6s 4ms/step - loss: 0.4823 - accuracy: 0.8311\n",
            "Epoch 15/50\n",
            "1563/1563 [==============================] - 6s 4ms/step - loss: 0.4548 - accuracy: 0.8398\n",
            "Epoch 16/50\n",
            "1563/1563 [==============================] - 6s 4ms/step - loss: 0.4298 - accuracy: 0.8495\n",
            "Epoch 17/50\n",
            "1563/1563 [==============================] - 7s 4ms/step - loss: 0.4038 - accuracy: 0.8571\n",
            "Epoch 18/50\n",
            "1563/1563 [==============================] - 6s 4ms/step - loss: 0.3800 - accuracy: 0.8657\n",
            "Epoch 19/50\n",
            "1563/1563 [==============================] - 6s 4ms/step - loss: 0.3525 - accuracy: 0.8752\n",
            "Epoch 20/50\n",
            "1563/1563 [==============================] - 6s 4ms/step - loss: 0.3364 - accuracy: 0.8806\n",
            "Epoch 21/50\n",
            "1563/1563 [==============================] - 6s 4ms/step - loss: 0.3144 - accuracy: 0.8885\n",
            "Epoch 22/50\n",
            "1563/1563 [==============================] - 6s 4ms/step - loss: 0.2905 - accuracy: 0.8958\n",
            "Epoch 23/50\n",
            "1563/1563 [==============================] - 6s 4ms/step - loss: 0.2759 - accuracy: 0.9021\n",
            "Epoch 24/50\n",
            "1563/1563 [==============================] - 7s 4ms/step - loss: 0.2596 - accuracy: 0.9076\n",
            "Epoch 25/50\n",
            "1563/1563 [==============================] - 6s 4ms/step - loss: 0.2460 - accuracy: 0.9117\n",
            "Epoch 26/50\n",
            "1563/1563 [==============================] - 6s 4ms/step - loss: 0.2268 - accuracy: 0.9200\n",
            "Epoch 27/50\n",
            "1563/1563 [==============================] - 6s 4ms/step - loss: 0.2167 - accuracy: 0.9225\n",
            "Epoch 28/50\n",
            "1563/1563 [==============================] - 6s 4ms/step - loss: 0.2056 - accuracy: 0.9257\n",
            "Epoch 29/50\n",
            "1563/1563 [==============================] - 6s 4ms/step - loss: 0.1898 - accuracy: 0.9324\n",
            "Epoch 30/50\n",
            "1563/1563 [==============================] - 7s 4ms/step - loss: 0.1872 - accuracy: 0.9327\n",
            "Epoch 31/50\n",
            "1563/1563 [==============================] - 6s 4ms/step - loss: 0.1648 - accuracy: 0.9408\n",
            "Epoch 32/50\n",
            "1563/1563 [==============================] - 7s 4ms/step - loss: 0.1604 - accuracy: 0.9436\n",
            "Epoch 33/50\n",
            "1563/1563 [==============================] - 6s 4ms/step - loss: 0.1576 - accuracy: 0.9439\n",
            "Epoch 34/50\n",
            "1563/1563 [==============================] - 7s 4ms/step - loss: 0.1560 - accuracy: 0.9436\n",
            "Epoch 35/50\n",
            "1563/1563 [==============================] - 6s 4ms/step - loss: 0.1445 - accuracy: 0.9486\n",
            "Epoch 36/50\n",
            "1563/1563 [==============================] - 7s 4ms/step - loss: 0.1349 - accuracy: 0.9527\n",
            "Epoch 37/50\n",
            "1563/1563 [==============================] - 6s 4ms/step - loss: 0.1307 - accuracy: 0.9530\n",
            "Epoch 38/50\n",
            "1563/1563 [==============================] - 6s 4ms/step - loss: 0.1316 - accuracy: 0.9522\n",
            "Epoch 39/50\n",
            "1563/1563 [==============================] - 6s 4ms/step - loss: 0.1231 - accuracy: 0.9567\n",
            "Epoch 40/50\n",
            "1563/1563 [==============================] - 6s 4ms/step - loss: 0.1202 - accuracy: 0.9573\n",
            "Epoch 41/50\n",
            "1563/1563 [==============================] - 6s 4ms/step - loss: 0.1215 - accuracy: 0.9582\n",
            "Epoch 42/50\n",
            "1563/1563 [==============================] - 6s 4ms/step - loss: 0.1116 - accuracy: 0.9610\n",
            "Epoch 43/50\n",
            "1563/1563 [==============================] - 6s 4ms/step - loss: 0.1125 - accuracy: 0.9605\n",
            "Epoch 44/50\n",
            "1563/1563 [==============================] - 7s 4ms/step - loss: 0.1083 - accuracy: 0.9628\n",
            "Epoch 45/50\n",
            "1563/1563 [==============================] - 6s 4ms/step - loss: 0.0960 - accuracy: 0.9663\n",
            "Epoch 46/50\n",
            "1563/1563 [==============================] - 6s 4ms/step - loss: 0.1023 - accuracy: 0.9638\n",
            "Epoch 47/50\n",
            "1563/1563 [==============================] - 6s 4ms/step - loss: 0.1026 - accuracy: 0.9630\n",
            "Epoch 48/50\n",
            "1563/1563 [==============================] - 6s 4ms/step - loss: 0.0990 - accuracy: 0.9658\n",
            "Epoch 49/50\n",
            "1563/1563 [==============================] - 7s 4ms/step - loss: 0.0983 - accuracy: 0.9656\n",
            "Epoch 50/50\n",
            "1563/1563 [==============================] - 6s 4ms/step - loss: 0.1009 - accuracy: 0.9651\n"
          ]
        },
        {
          "output_type": "execute_result",
          "data": {
            "text/plain": [
              "<keras.src.callbacks.History at 0x7a42d7728cd0>"
            ]
          },
          "metadata": {},
          "execution_count": 19
        },
        {
          "output_type": "stream",
          "name": "stdout",
          "text": [
            "Epoch 1/50\n",
            "1563/1563 [==============================] - 8s 4ms/step - loss: 1.4418 - accuracy: 0.4786\n",
            "Epoch 2/50\n",
            "1563/1563 [==============================] - 6s 4ms/step - loss: 1.1035 - accuracy: 0.6132\n",
            "Epoch 3/50\n",
            "1563/1563 [==============================] - 7s 4ms/step - loss: 0.9759 - accuracy: 0.6602\n",
            "Epoch 4/50\n",
            "1563/1563 [==============================] - 6s 4ms/step - loss: 0.8920 - accuracy: 0.6892\n",
            "Epoch 5/50\n",
            "1563/1563 [==============================] - 7s 4ms/step - loss: 0.8252 - accuracy: 0.7130\n",
            "Epoch 6/50\n",
            "1563/1563 [==============================] - 6s 4ms/step - loss: 0.7736 - accuracy: 0.7322\n",
            "Epoch 7/50\n",
            "1563/1563 [==============================] - 7s 4ms/step - loss: 0.7217 - accuracy: 0.7510\n",
            "Epoch 8/50\n",
            "1563/1563 [==============================] - 6s 4ms/step - loss: 0.6821 - accuracy: 0.7644\n",
            "Epoch 9/50\n",
            "1563/1563 [==============================] - 7s 4ms/step - loss: 0.6416 - accuracy: 0.7763\n",
            "Epoch 10/50\n",
            "1563/1563 [==============================] - 6s 4ms/step - loss: 0.6030 - accuracy: 0.7914\n",
            "Epoch 11/50\n",
            "1563/1563 [==============================] - 7s 4ms/step - loss: 0.5655 - accuracy: 0.8012\n",
            "Epoch 12/50\n",
            "1563/1563 [==============================] - 6s 4ms/step - loss: 0.5336 - accuracy: 0.8136\n",
            "Epoch 13/50\n",
            "1563/1563 [==============================] - 7s 4ms/step - loss: 0.5060 - accuracy: 0.8228\n",
            "Epoch 14/50\n",
            "1563/1563 [==============================] - 6s 4ms/step - loss: 0.4748 - accuracy: 0.8338\n",
            "Epoch 15/50\n",
            "1563/1563 [==============================] - 6s 4ms/step - loss: 0.4501 - accuracy: 0.8403\n",
            "Epoch 16/50\n",
            "1563/1563 [==============================] - 6s 4ms/step - loss: 0.4239 - accuracy: 0.8511\n",
            "Epoch 17/50\n",
            "1563/1563 [==============================] - 7s 4ms/step - loss: 0.4003 - accuracy: 0.8586\n",
            "Epoch 18/50\n",
            "1563/1563 [==============================] - 6s 4ms/step - loss: 0.3721 - accuracy: 0.8687\n",
            "Epoch 19/50\n",
            "1563/1563 [==============================] - 6s 4ms/step - loss: 0.3514 - accuracy: 0.8761\n",
            "Epoch 20/50\n",
            "1563/1563 [==============================] - 6s 4ms/step - loss: 0.3355 - accuracy: 0.8817\n",
            "Epoch 21/50\n",
            "1563/1563 [==============================] - 6s 4ms/step - loss: 0.3124 - accuracy: 0.8885\n",
            "Epoch 22/50\n",
            "1563/1563 [==============================] - 7s 4ms/step - loss: 0.2965 - accuracy: 0.8925\n",
            "Epoch 23/50\n",
            "1563/1563 [==============================] - 6s 4ms/step - loss: 0.2808 - accuracy: 0.8997\n",
            "Epoch 24/50\n",
            "1563/1563 [==============================] - 7s 4ms/step - loss: 0.2666 - accuracy: 0.9067\n",
            "Epoch 25/50\n",
            "1563/1563 [==============================] - 6s 4ms/step - loss: 0.2501 - accuracy: 0.9105\n",
            "Epoch 26/50\n",
            "1563/1563 [==============================] - 7s 4ms/step - loss: 0.2353 - accuracy: 0.9157\n",
            "Epoch 27/50\n",
            "1563/1563 [==============================] - 6s 4ms/step - loss: 0.2265 - accuracy: 0.9198\n",
            "Epoch 28/50\n",
            "1563/1563 [==============================] - 7s 4ms/step - loss: 0.2124 - accuracy: 0.9232\n",
            "Epoch 29/50\n",
            "1563/1563 [==============================] - 6s 4ms/step - loss: 0.2018 - accuracy: 0.9275\n",
            "Epoch 30/50\n",
            "1563/1563 [==============================] - 7s 4ms/step - loss: 0.1910 - accuracy: 0.9312\n",
            "Epoch 31/50\n",
            "1563/1563 [==============================] - 6s 4ms/step - loss: 0.1808 - accuracy: 0.9358\n",
            "Epoch 32/50\n",
            "1563/1563 [==============================] - 7s 4ms/step - loss: 0.1752 - accuracy: 0.9359\n",
            "Epoch 33/50\n",
            "1563/1563 [==============================] - 6s 4ms/step - loss: 0.1678 - accuracy: 0.9398\n",
            "Epoch 34/50\n",
            "1563/1563 [==============================] - 7s 4ms/step - loss: 0.1544 - accuracy: 0.9429\n",
            "Epoch 35/50\n",
            "1563/1563 [==============================] - 7s 4ms/step - loss: 0.1554 - accuracy: 0.9447\n",
            "Epoch 36/50\n",
            "1563/1563 [==============================] - 7s 4ms/step - loss: 0.1518 - accuracy: 0.9446\n",
            "Epoch 37/50\n",
            "1563/1563 [==============================] - 6s 4ms/step - loss: 0.1408 - accuracy: 0.9484\n",
            "Epoch 38/50\n",
            "1563/1563 [==============================] - 7s 4ms/step - loss: 0.1376 - accuracy: 0.9517\n",
            "Epoch 39/50\n",
            "1563/1563 [==============================] - 6s 4ms/step - loss: 0.1414 - accuracy: 0.9501\n",
            "Epoch 40/50\n",
            "1563/1563 [==============================] - 7s 4ms/step - loss: 0.1186 - accuracy: 0.9580\n",
            "Epoch 41/50\n",
            "1563/1563 [==============================] - 6s 4ms/step - loss: 0.1290 - accuracy: 0.9529\n",
            "Epoch 42/50\n",
            "1563/1563 [==============================] - 7s 4ms/step - loss: 0.1290 - accuracy: 0.9544\n",
            "Epoch 43/50\n",
            "1563/1563 [==============================] - 6s 4ms/step - loss: 0.1160 - accuracy: 0.9585\n",
            "Epoch 44/50\n",
            "1563/1563 [==============================] - 7s 4ms/step - loss: 0.1168 - accuracy: 0.9584\n",
            "Epoch 45/50\n",
            "1563/1563 [==============================] - 6s 4ms/step - loss: 0.1200 - accuracy: 0.9576\n",
            "Epoch 46/50\n",
            "1563/1563 [==============================] - 7s 4ms/step - loss: 0.1114 - accuracy: 0.9598\n",
            "Epoch 47/50\n",
            "1563/1563 [==============================] - 6s 4ms/step - loss: 0.1095 - accuracy: 0.9619\n",
            "Epoch 48/50\n",
            "1563/1563 [==============================] - 7s 4ms/step - loss: 0.1124 - accuracy: 0.9608\n",
            "Epoch 49/50\n",
            "1563/1563 [==============================] - 6s 4ms/step - loss: 0.0990 - accuracy: 0.9656\n",
            "Epoch 50/50\n",
            "1563/1563 [==============================] - 7s 4ms/step - loss: 0.0994 - accuracy: 0.9660\n"
          ]
        },
        {
          "output_type": "execute_result",
          "data": {
            "text/plain": [
              "<keras.src.callbacks.History at 0x7a42d726c5e0>"
            ]
          },
          "metadata": {},
          "execution_count": 51
        }
      ]
    },
    {
      "cell_type": "code",
      "source": [
        "cnn.evaluate(X_test, y_test)"
      ],
      "metadata": {
        "colab": {
          "base_uri": "https://localhost:8080/"
        },
        "id": "wjpGv3cGKF6P",
        "outputId": "0dc3fab3-83aa-428e-ed79-2585bbbf8201"
      },
      "execution_count": null,
      "outputs": [
        {
          "output_type": "stream",
          "name": "stdout",
          "text": [
            "313/313 [==============================] - 1s 2ms/step - loss: 3.0605 - accuracy: 0.6611\n"
          ]
        },
        {
          "output_type": "execute_result",
          "data": {
            "text/plain": [
              "[3.0605385303497314, 0.6610999703407288]"
            ]
          },
          "metadata": {},
          "execution_count": 20
        },
        {
          "output_type": "stream",
          "name": "stdout",
          "text": [
            "313/313 [==============================] - 1s 2ms/step - loss: 3.0785 - accuracy: 0.6521\n"
          ]
        },
        {
          "output_type": "execute_result",
          "data": {
            "text/plain": [
              "[3.0784859657287598, 0.6521000266075134]"
            ]
          },
          "metadata": {},
          "execution_count": 52
        }
      ]
    },
    {
      "cell_type": "code",
      "source": [
        "y_test = y_test.reshape(-1, )\n",
        "y_test[: 5]"
      ],
      "metadata": {
        "colab": {
          "base_uri": "https://localhost:8080/"
        },
        "id": "XBBYUr2sLQyX",
        "outputId": "5b438b2e-0912-4a55-bf4d-01d61a58938c"
      },
      "execution_count": null,
      "outputs": [
        {
          "output_type": "execute_result",
          "data": {
            "text/plain": [
              "array([3, 8, 8, 0, 6], dtype=uint8)"
            ]
          },
          "metadata": {},
          "execution_count": 21
        },
        {
          "output_type": "execute_result",
          "data": {
            "text/plain": [
              "array([3, 8, 8, 0, 6], dtype=uint8)"
            ]
          },
          "metadata": {},
          "execution_count": 53
        }
      ]
    },
    {
      "cell_type": "code",
      "source": [
        "#Plotting the Sample value (Image) from the Dataset of Images.\n",
        "plot_sample(X_test, y_test, 1)"
      ],
      "metadata": {
        "colab": {
          "base_uri": "https://localhost:8080/",
          "height": 457
        },
        "id": "SUrAz7iJKyHa",
        "outputId": "98d0aa8d-8efc-4080-a0fe-d8b9febdf6da"
      },
      "execution_count": null,
      "outputs": [
        {
          "output_type": "display_data",
          "data": {
            "text/plain": [
              "<Figure size 1500x200 with 1 Axes>"
            ],
            "image/png": "[encoded data removed]"
          },
          "metadata": {}
        },
        {
          "output_type": "display_data",
          "data": {
            "text/plain": [
              "<Figure size 1500x200 with 1 Axes>"
            ],
            "image/png": "[encoded data removed]"
          },
          "metadata": {}
        }
      ]
    },
    {
      "cell_type": "code",
      "source": [
        "y_pred = cnn.predict(X_test)\n",
        "y_pred[: 5]"
      ],
      "metadata": {
        "colab": {
          "base_uri": "https://localhost:8080/"
        },
        "id": "eXxyXE-MLYiM",
        "outputId": "57ba35f7-6578-4283-dcc6-67b9f826971a"
      },
      "execution_count": null,
      "outputs": [
        {
          "output_type": "stream",
          "name": "stdout",
          "text": [
            "313/313 [==============================] - 1s 2ms/step\n"
          ]
        },
        {
          "output_type": "execute_result",
          "data": {
            "text/plain": [
              "array([[1.1175558e-08, 1.9268195e-17, 1.1705869e-03, 9.4156504e-01,\n",
              "        1.7866123e-08, 4.1243967e-10, 1.1580761e-04, 1.3726991e-16,\n",
              "        5.7148602e-02, 9.8548655e-11],\n",
              "       [2.9075476e-19, 1.7344935e-05, 9.1456950e-34, 2.8184508e-31,\n",
              "        6.4981384e-36, 0.0000000e+00, 0.0000000e+00, 0.0000000e+00,\n",
              "        9.9998260e-01, 2.7640023e-22],\n",
              "       [1.7006646e-01, 5.2307153e-01, 4.4891539e-09, 2.0760392e-04,\n",
              "        3.7766779e-06, 5.5569075e-08, 6.1330031e-11, 7.6996403e-06,\n",
              "        3.0664250e-01, 3.6358162e-07],\n",
              "       [9.9983048e-01, 1.6954182e-04, 8.2458269e-11, 1.2069442e-11,\n",
              "        1.7706137e-10, 3.5922986e-14, 1.2129735e-16, 8.1479284e-18,\n",
              "        7.5277380e-12, 1.7817565e-17],\n",
              "       [5.7017079e-28, 6.0511702e-14, 7.2721682e-06, 2.4968833e-07,\n",
              "        9.9890590e-01, 2.2393268e-15, 1.0866482e-03, 2.0947398e-23,\n",
              "        2.9787499e-14, 2.7277082e-19]], dtype=float32)"
            ]
          },
          "metadata": {},
          "execution_count": 23
        },
        {
          "output_type": "stream",
          "name": "stdout",
          "text": [
            "313/313 [==============================] - 1s 2ms/step\n"
          ]
        },
        {
          "output_type": "execute_result",
          "data": {
            "text/plain": [
              "array([[6.8929937e-18, 7.9216785e-21, 2.2743091e-10, 9.9998796e-01,\n",
              "        1.4134607e-13, 1.2003614e-05, 1.7892809e-14, 2.2936003e-16,\n",
              "        6.1924609e-16, 2.2786295e-21],\n",
              "       [7.8070803e-09, 2.0679498e-04, 4.7639743e-18, 1.4712790e-19,\n",
              "        3.8305341e-32, 7.1763028e-26, 2.1324222e-15, 3.8440162e-24,\n",
              "        9.9978930e-01, 3.9511251e-06],\n",
              "       [1.9209028e-06, 2.3132593e-03, 3.9383339e-15, 5.5057511e-11,\n",
              "        6.2477566e-21, 1.0480330e-18, 8.3269279e-16, 9.7252143e-13,\n",
              "        9.9767929e-01, 5.6200884e-06],\n",
              "       [9.9991858e-01, 3.1613289e-14, 1.2626892e-09, 9.1269798e-13,\n",
              "        3.6708090e-07, 3.6185917e-24, 4.5460225e-18, 3.9712577e-14,\n",
              "        8.1069746e-05, 1.5089267e-11],\n",
              "       [1.1616345e-22, 3.0384621e-18, 4.2205116e-08, 1.7291850e-06,\n",
              "        1.6178072e-07, 3.4900458e-10, 9.9999809e-01, 3.1992527e-28,\n",
              "        1.7495619e-24, 1.4362252e-27]], dtype=float32)"
            ]
          },
          "metadata": {},
          "execution_count": 55
        }
      ]
    },
    {
      "cell_type": "code",
      "source": [
        "#np.argmax(y_pred) - Returns the largest value's index in the array\n",
        "y_classes = [np.argmax(element) for element in y_pred]\n",
        "y_classes[: 5]"
      ],
      "metadata": {
        "colab": {
          "base_uri": "https://localhost:8080/"
        },
        "id": "D7KTU5Y8MVF8",
        "outputId": "89141b25-f0c5-4fdd-db83-a143476c793c"
      },
      "execution_count": null,
      "outputs": [
        {
          "output_type": "execute_result",
          "data": {
            "text/plain": [
              "[3, 8, 1, 0, 4]"
            ]
          },
          "metadata": {},
          "execution_count": 24
        },
        {
          "output_type": "execute_result",
          "data": {
            "text/plain": [
              "[3, 8, 8, 0, 6]"
            ]
          },
          "metadata": {},
          "execution_count": 56
        }
      ]
    },
    {
      "cell_type": "code",
      "source": [
        "y_test[: 5]"
      ],
      "metadata": {
        "colab": {
          "base_uri": "https://localhost:8080/"
        },
        "id": "ANbCPRp6NRfc",
        "outputId": "c04a6053-dc82-41df-dd41-6e26c2fa844a"
      },
      "execution_count": null,
      "outputs": [
        {
          "output_type": "execute_result",
          "data": {
            "text/plain": [
              "array([3, 8, 8, 0, 6], dtype=uint8)"
            ]
          },
          "metadata": {},
          "execution_count": 25
        },
        {
          "output_type": "execute_result",
          "data": {
            "text/plain": [
              "array([3, 8, 8, 0, 6], dtype=uint8)"
            ]
          },
          "metadata": {},
          "execution_count": 57
        }
      ]
    },
    {
      "cell_type": "code",
      "source": [
        "plot_sample(X_test, y_test, 3)"
      ],
      "metadata": {
        "colab": {
          "base_uri": "https://localhost:8080/",
          "height": 457
        },
        "id": "gLCXBiCuNg-c",
        "outputId": "3fd541fb-adca-4ebe-e9f8-a2d33a3b7353"
      },
      "execution_count": null,
      "outputs": [
        {
          "output_type": "display_data",
          "data": {
            "text/plain": [
              "<Figure size 1500x200 with 1 Axes>"
            ],
            "image/png": "[encoded data removed]"
          },
          "metadata": {}
        },
        {
          "output_type": "display_data",
          "data": {
            "text/plain": [
              "<Figure size 1500x200 with 1 Axes>"
            ],
            "image/png": "[encoded data removed]"
          },
          "metadata": {}
        }
      ]
    },
    {
      "cell_type": "code",
      "source": [
        "classes[y_classes[3]]"
      ],
      "metadata": {
        "colab": {
          "base_uri": "https://localhost:8080/",
          "height": 54
        },
        "id": "BH4duCNsNlct",
        "outputId": "14f47304-af8b-44b7-8711-1d9b21cb960b"
      },
      "execution_count": null,
      "outputs": [
        {
          "output_type": "execute_result",
          "data": {
            "text/plain": [
              "'airplane'"
            ],
            "application/vnd.google.colaboratory.intrinsic+json": {
              "type": "string"
            }
          },
          "metadata": {},
          "execution_count": 27
        },
        {
          "output_type": "execute_result",
          "data": {
            "text/plain": [
              "'airplane'"
            ],
            "application/vnd.google.colaboratory.intrinsic+json": {
              "type": "string"
            }
          },
          "metadata": {},
          "execution_count": 59
        }
      ]
    },
    {
      "cell_type": "code",
      "source": [
        "plot_sample(X_test, y_test, 1)"
      ],
      "metadata": {
        "colab": {
          "base_uri": "https://localhost:8080/",
          "height": 457
        },
        "id": "AW3AinurWmY2",
        "outputId": "3d31e383-0d87-4006-a982-bc257678cc56"
      },
      "execution_count": null,
      "outputs": [
        {
          "output_type": "display_data",
          "data": {
            "text/plain": [
              "<Figure size 1500x200 with 1 Axes>"
            ],
            "image/png": "[encoded data removed]"
          },
          "metadata": {}
        },
        {
          "output_type": "display_data",
          "data": {
            "text/plain": [
              "<Figure size 1500x200 with 1 Axes>"
            ],
            "image/png": "[encoded data removed]"
          },
          "metadata": {}
        }
      ]
    },
    {
      "cell_type": "code",
      "source": [
        "classes[y_classes[1]]"
      ],
      "metadata": {
        "colab": {
          "base_uri": "https://localhost:8080/",
          "height": 54
        },
        "id": "AXXpf8pTWrH4",
        "outputId": "f2cbc580-8636-47f9-9fc2-268cc5d9be0e"
      },
      "execution_count": null,
      "outputs": [
        {
          "output_type": "execute_result",
          "data": {
            "text/plain": [
              "'ship'"
            ],
            "application/vnd.google.colaboratory.intrinsic+json": {
              "type": "string"
            }
          },
          "metadata": {},
          "execution_count": 29
        },
        {
          "output_type": "execute_result",
          "data": {
            "text/plain": [
              "'ship'"
            ],
            "application/vnd.google.colaboratory.intrinsic+json": {
              "type": "string"
            }
          },
          "metadata": {},
          "execution_count": 61
        }
      ]
    },
    {
      "cell_type": "code",
      "source": [
        "plot_sample(X_test, y_test, 5)"
      ],
      "metadata": {
        "colab": {
          "base_uri": "https://localhost:8080/",
          "height": 457
        },
        "id": "vG2oCzA4Wlum",
        "outputId": "44933532-20a3-4c77-eb81-b5682e1099b2"
      },
      "execution_count": null,
      "outputs": [
        {
          "output_type": "display_data",
          "data": {
            "text/plain": [
              "<Figure size 1500x200 with 1 Axes>"
            ],
            "image/png": "[encoded data removed]"
          },
          "metadata": {}
        },
        {
          "output_type": "display_data",
          "data": {
            "text/plain": [
              "<Figure size 1500x200 with 1 Axes>"
            ],
            "image/png": "[encoded data removed]"
          },
          "metadata": {}
        }
      ]
    },
    {
      "cell_type": "code",
      "source": [
        "classes[y_classes[5]]"
      ],
      "metadata": {
        "colab": {
          "base_uri": "https://localhost:8080/",
          "height": 54
        },
        "id": "EIr9EhS-Ws9G",
        "outputId": "c27c20a2-0196-4464-b40d-a599b31724b0"
      },
      "execution_count": null,
      "outputs": [
        {
          "output_type": "execute_result",
          "data": {
            "text/plain": [
              "'frog'"
            ],
            "application/vnd.google.colaboratory.intrinsic+json": {
              "type": "string"
            }
          },
          "metadata": {},
          "execution_count": 31
        },
        {
          "output_type": "execute_result",
          "data": {
            "text/plain": [
              "'frog'"
            ],
            "application/vnd.google.colaboratory.intrinsic+json": {
              "type": "string"
            }
          },
          "metadata": {},
          "execution_count": 63
        }
      ]
    },
    {
      "cell_type": "code",
      "source": [
        "print(\"Classification Report - \\n\" , classification_report(y_test, y_classes))"
      ],
      "metadata": {
        "colab": {
          "base_uri": "https://localhost:8080/"
        },
        "id": "R2feCkvJN6va",
        "outputId": "8991361a-4b4b-4844-dd9e-4dede520591a"
      },
      "execution_count": null,
      "outputs": [
        {
          "output_type": "stream",
          "name": "stdout",
          "text": [
            "Classification Report - \n",
            "               precision    recall  f1-score   support\n",
            "\n",
            "           0       0.72      0.69      0.71      1000\n",
            "           1       0.75      0.83      0.79      1000\n",
            "           2       0.53      0.60      0.56      1000\n",
            "           3       0.48      0.44      0.46      1000\n",
            "           4       0.62      0.58      0.60      1000\n",
            "           5       0.55      0.56      0.56      1000\n",
            "           6       0.69      0.76      0.72      1000\n",
            "           7       0.77      0.67      0.72      1000\n",
            "           8       0.72      0.81      0.76      1000\n",
            "           9       0.80      0.67      0.73      1000\n",
            "\n",
            "    accuracy                           0.66     10000\n",
            "   macro avg       0.66      0.66      0.66     10000\n",
            "weighted avg       0.66      0.66      0.66     10000\n",
            "\n",
            "Classification Report - \n",
            "               precision    recall  f1-score   support\n",
            "\n",
            "           0       0.71      0.69      0.70      1000\n",
            "           1       0.80      0.73      0.76      1000\n",
            "           2       0.59      0.49      0.54      1000\n",
            "           3       0.45      0.46      0.46      1000\n",
            "           4       0.60      0.60      0.60      1000\n",
            "           5       0.51      0.59      0.55      1000\n",
            "           6       0.74      0.74      0.74      1000\n",
            "           7       0.70      0.67      0.69      1000\n",
            "           8       0.74      0.78      0.76      1000\n",
            "           9       0.70      0.77      0.73      1000\n",
            "\n",
            "    accuracy                           0.65     10000\n",
            "   macro avg       0.65      0.65      0.65     10000\n",
            "weighted avg       0.65      0.65      0.65     10000\n",
            "\n"
          ]
        }
      ]
    },
    {
      "cell_type": "markdown",
      "source": [
        "*Actually by using CNN we can see that improvement in accuracy. While using ANN we know that for image classification it needs more computation but while CNN actually reduces the dimensions of the image, so the computation will be fast and easy and the accuracy will also be good compared to ANN. Even though we increase number of epochs in the ANN it still can't beat the CNN in Image Classification Problems.*"
      ],
      "metadata": {
        "id": "tWFvAzqBX7Bm"
      }
    }
  ]
}